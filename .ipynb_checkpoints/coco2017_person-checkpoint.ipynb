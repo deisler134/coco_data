{
 "cells": [
  {
   "cell_type": "code",
   "execution_count": 1,
   "metadata": {},
   "outputs": [],
   "source": [
    "%matplotlib inline\n",
    "from pycocotools.coco import COCO\n",
    "import numpy as np\n",
    "import skimage.io as io\n",
    "import matplotlib.pyplot as plt\n",
    "import pylab\n",
    "pylab.rcParams['figure.figsize'] = (8.0, 10.0)"
   ]
  },
  {
   "cell_type": "code",
   "execution_count": 11,
   "metadata": {},
   "outputs": [],
   "source": [
    "dataDir='/media/deisler/Data1/project/coco/cocodata'\n",
    "dataType='train2017'\n",
    "annFile='{}/annotations2017/instances_{}.json'.format(dataDir,dataType)"
   ]
  },
  {
   "cell_type": "code",
   "execution_count": 12,
   "metadata": {},
   "outputs": [
    {
     "name": "stdout",
     "output_type": "stream",
     "text": [
      "loading annotations into memory...\n",
      "Done (t=13.58s)\n",
      "creating index...\n",
      "index created!\n"
     ]
    }
   ],
   "source": [
    "# initialize COCO api for instance annotations\n",
    "coco=COCO(annFile)"
   ]
  },
  {
   "cell_type": "code",
   "execution_count": 6,
   "metadata": {},
   "outputs": [
    {
     "name": "stdout",
     "output_type": "stream",
     "text": [
      "COCO categories: \n",
      "person bicycle car motorcycle airplane bus train truck boat traffic light fire hydrant stop sign parking meter bench bird cat dog horse sheep cow elephant bear zebra giraffe backpack umbrella handbag tie suitcase frisbee skis snowboard sports ball kite baseball bat baseball glove skateboard surfboard tennis racket bottle wine glass cup fork knife spoon bowl banana apple sandwich orange broccoli carrot hot dog pizza donut cake chair couch potted plant bed dining table toilet tv laptop mouse remote keyboard cell phone microwave oven toaster sink refrigerator book clock vase scissors teddy bear hair drier toothbrush\n",
      "\n",
      "COCO supercategories: \n",
      "accessory appliance outdoor indoor food sports animal vehicle furniture kitchen electronic person\n"
     ]
    }
   ],
   "source": [
    "# display COCO categories and supercategories\n",
    "cats = coco.loadCats(coco.getCatIds())\n",
    "nms=[cat['name'] for cat in cats]\n",
    "print('COCO categories: \\n{}\\n'.format(' '.join(nms)))\n",
    "\n",
    "nms = set([cat['supercategory'] for cat in cats])\n",
    "print('COCO supercategories: \\n{}'.format(' '.join(nms)))"
   ]
  },
  {
   "cell_type": "code",
   "execution_count": 8,
   "metadata": {},
   "outputs": [
    {
     "name": "stdout",
     "output_type": "stream",
     "text": [
      "[262145, 262146, 524291, 393223, 393224, 524297, 393227, 131084, 393230, 524311]\n",
      "45174\n",
      "262146\n"
     ]
    }
   ],
   "source": [
    "# get all images containing given categories, select one at random\n",
    "catIds = coco.getCatIds(catNms=['person']);\n",
    "imgIds = coco.getImgIds(catIds=catIds );\n",
    "\n",
    "print(imgIds[:10])\n",
    "print(len(imgIds))\n",
    "print(imgIds[1])"
   ]
  },
  {
   "cell_type": "code",
   "execution_count": 9,
   "metadata": {},
   "outputs": [
    {
     "name": "stdout",
     "output_type": "stream",
     "text": [
      "262146\n",
      "[262146]\n",
      "COCO_train2014_000000262146.jpg\n",
      "3\n"
     ]
    }
   ],
   "source": [
    "print(imgIds[1])\n",
    "test_imgIds = coco.getImgIds(imgIds = imgIds[1])\n",
    "print(test_imgIds)\n",
    "img = coco.loadImgs(test_imgIds[np.random.randint(0,len(test_imgIds))])[0]\n",
    "print(img['file_name'])\n",
    "I = io.imread('%s/%s/%s'%(dataDir,dataType,img['file_name']))\n",
    "io.imsave(fname='%s/coco2017person/%s'%(dataDir,img['file_name']),arr=I)\n",
    "\n",
    "print(len(I.shape))\n",
    "\n",
    "#plt.imshow(I); plt.axis('off')\n",
    "\n",
    "def get_blend_img(I, img, catIds):\n",
    "    annIds = coco.getAnnIds(imgIds=img['id'], catIds=catIds, iscrowd=None)\n",
    "    anns = coco.loadAnns(annIds)\n",
    "    #coco.showAnns(anns)\n",
    "\n",
    "    mask = np.zeros( (I.shape[0], I.shape[1], 3) )\n",
    "    #np.dstack(mask)\n",
    "    for ann in anns:\n",
    "        m = coco.annToMask(ann)\n",
    "        img = np.ones( (m.shape[0], m.shape[1], 3) )\n",
    "        if ann['iscrowd'] == 1:\n",
    "            color_mask = np.array([2.0,166.0,101.0])/255\n",
    "        if ann['iscrowd'] == 0:\n",
    "            color_mask = np.random.random((1, 3)).tolist()[0]\n",
    "        for i in range(3):\n",
    "            img[:,:,i] = color_mask[i]\n",
    "    #    print(color_mask[0])\n",
    "        m = np.dstack((0.5*m,0.5*m,0.5*m))\n",
    "    #    m.astype(np.float64) / 255\n",
    "        mask += np.where(m,img*255,m)\n",
    "    #    plt.imshow(m + img)\n",
    "    #    np.dstack( (img, m*0.5) )\n",
    "    #    print(m)\n",
    "\n",
    "    #print(mask.shape[:],I.shape[:])\n",
    "    if len(I.shape) != 3:\n",
    "        I = np.dstack((I,I,I))\n",
    "        \n",
    "    blender = (I*0.3 + 0.7*mask).astype(np.uint8)\n",
    "    I = (np.where(mask,blender,I))\n",
    "#    plt.imshow(I)\n",
    "    return I\n",
    "\n",
    "#plt.imshow(mask)\n",
    "#plt.savefig('mask.jpg')"
   ]
  },
  {
   "cell_type": "code",
   "execution_count": 10,
   "metadata": {},
   "outputs": [
    {
     "name": "stderr",
     "output_type": "stream",
     "text": [
      "/home/deisler/aienv/lib/python3.6/site-packages/skimage/io/_io.py:140: UserWarning: /media/deisler/Data1/project/coco/cocodata/coco2014person/COCO_train2014_000000046003.jpg is a low contrast image\n",
      "  warn('%s is a low contrast image' % fname)\n",
      "/home/deisler/aienv/lib/python3.6/site-packages/skimage/io/_io.py:140: UserWarning: /media/deisler/Data1/project/coco/cocodata/coco2014person/COCO_train2014_000000046003_b.jpg is a low contrast image\n",
      "  warn('%s is a low contrast image' % fname)\n",
      "/home/deisler/aienv/lib/python3.6/site-packages/skimage/io/_io.py:140: UserWarning: /media/deisler/Data1/project/coco/cocodata/coco2014person/COCO_train2014_000000463426.jpg is a low contrast image\n",
      "  warn('%s is a low contrast image' % fname)\n",
      "/home/deisler/aienv/lib/python3.6/site-packages/skimage/io/_io.py:140: UserWarning: /media/deisler/Data1/project/coco/cocodata/coco2014person/COCO_train2014_000000463426_b.jpg is a low contrast image\n",
      "  warn('%s is a low contrast image' % fname)\n",
      "/home/deisler/aienv/lib/python3.6/site-packages/skimage/io/_io.py:140: UserWarning: /media/deisler/Data1/project/coco/cocodata/coco2014person/COCO_train2014_000000120038.jpg is a low contrast image\n",
      "  warn('%s is a low contrast image' % fname)\n",
      "/home/deisler/aienv/lib/python3.6/site-packages/skimage/io/_io.py:140: UserWarning: /media/deisler/Data1/project/coco/cocodata/coco2014person/COCO_train2014_000000120038_b.jpg is a low contrast image\n",
      "  warn('%s is a low contrast image' % fname)\n"
     ]
    }
   ],
   "source": [
    "#### save person images\n",
    "for personid in imgIds:\n",
    "    person = coco.getImgIds(personid)\n",
    "    personimg = coco.loadImgs(person[np.random.randint(0,len(person))])[0]\n",
    "    I = io.imread('%s/%s/%s'%(dataDir,dataType,personimg['file_name']))\n",
    "    io.imsave(fname='%s/coco2014person/%s'%(dataDir,personimg['file_name']),arr=I)\n",
    "    blend_img = get_blend_img(I,personimg,catIds)\n",
    "    io.imsave(fname='%s/coco2014person/%s_b.jpg'%(dataDir,personimg['file_name'][:-4]),arr=blend_img)\n",
    "    \n"
   ]
  },
  {
   "cell_type": "code",
   "execution_count": null,
   "metadata": {},
   "outputs": [],
   "source": []
  }
 ],
 "metadata": {
  "kernelspec": {
   "display_name": "Python 3",
   "language": "python",
   "name": "python3"
  },
  "language_info": {
   "codemirror_mode": {
    "name": "ipython",
    "version": 3
   },
   "file_extension": ".py",
   "mimetype": "text/x-python",
   "name": "python",
   "nbconvert_exporter": "python",
   "pygments_lexer": "ipython3",
   "version": "3.6.7"
  }
 },
 "nbformat": 4,
 "nbformat_minor": 2
}
